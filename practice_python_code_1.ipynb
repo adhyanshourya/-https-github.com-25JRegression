{
  "nbformat": 4,
  "nbformat_minor": 0,
  "metadata": {
    "colab": {
      "provenance": [],
      "toc_visible": true,
      "authorship_tag": "ABX9TyPWoDzWEs///HX+0+V4MwIZ",
      "include_colab_link": true
    },
    "kernelspec": {
      "name": "python3",
      "display_name": "Python 3"
    },
    "language_info": {
      "name": "python"
    }
  },
  "cells": [
    {
      "cell_type": "markdown",
      "metadata": {
        "id": "view-in-github",
        "colab_type": "text"
      },
      "source": [
        "<a href=\"https://colab.research.google.com/github/adhyanshourya/-https-github.com-25JRegression/blob/master/practice_python_code_1.ipynb\" target=\"_parent\"><img src=\"https://colab.research.google.com/assets/colab-badge.svg\" alt=\"Open In Colab\"/></a>"
      ]
    },
    {
      "cell_type": "code",
      "execution_count": null,
      "metadata": {
        "colab": {
          "base_uri": "https://localhost:8080/"
        },
        "id": "Bz6NxEc_reEY",
        "outputId": "f8d07fd2-d8ab-45f5-8ec2-b08aa309cfc5"
      },
      "outputs": [
        {
          "output_type": "stream",
          "name": "stdout",
          "text": [
            "hello world\n"
          ]
        }
      ],
      "source": [
        "print(\"hello world\")"
      ]
    },
    {
      "cell_type": "code",
      "source": [
        "def_init_(self)\n",
        "self.pin\n",
        "self.balance=0\n",
        "self.menu()\n",
        "\n"
      ],
      "metadata": {
        "id": "4F8uJ61v1bt3"
      },
      "execution_count": null,
      "outputs": []
    },
    {
      "cell_type": "code",
      "source": [
        "class atm\n",
        "def_in_it(self)#init is basically called as constructor it is as pecial method jiska andar rakha code get automatically excecuted jaisa he class ka object banate ha\n",
        "self.pin\n",
        "self.balance=0\n",
        "self.menu()\n",
        "def menu(self)\n",
        "user=input(***hello how would you like to proceed ?\n",
        "           enter 1 to create pin\n",
        "           enter2 to deposit\n",
        "           enter 3 to withdraw\n",
        "           enter 4 to check balance\n",
        "           enter 5 to exit\n",
        "\n",
        "           if user_input==1\n",
        "           self.create_pin()\n",
        "\n",
        "el if user_input==2\n",
        "\n"
      ],
      "metadata": {
        "id": "xhubpK9UQPfG"
      },
      "execution_count": null,
      "outputs": []
    },
    {
      "cell_type": "code",
      "source": [
        "class ATM:\n",
        "    def __init__(self):\n",
        "        self.pin = None\n",
        "        self.balance = 0\n",
        "        self.menu()\n",
        "\n",
        "    def menu(self):\n",
        "        print(\"Hello! How would you like to proceed?\")\n",
        "        print(\"Enter 1 to create a PIN\")\n",
        "        print(\"Enter 2 to deposit\")\n",
        "        print(\"Enter 3 to withdraw\")\n",
        "        print(\"Enter 4 to check balance\")\n",
        "        print(\"Enter 5 to exit\")\n",
        "\n",
        "        user_input = int(input(\"Please enter your choice: \"))\n",
        "\n",
        "        if user_input == 1:\n",
        "            self.create_pin()\n",
        "        elif user_input == 2:\n",
        "            self.deposit()\n",
        "        elif user_input == 3:\n",
        "            self.withdraw()\n",
        "        elif user_input == 4:\n",
        "            self.check_balance()\n",
        "        elif user_input == 5:\n",
        "            print(\"Thank you for using the ATM!\")\n",
        "        else:\n",
        "            print(\"Invalid choice. Please try again.\")\n",
        "            self.menu()\n",
        "\n",
        "    def create_pin(self):\n",
        "        pin = input(\"Please enter a 4-digit PIN: \")\n",
        "        if len(pin) != 4 or not pin.isdigit():\n",
        "            print(\"Invalid PIN. Please enter a 4-digit number.\")\n",
        "            self.create_pin()\n",
        "        else:\n",
        "            self.pin = pin\n",
        "            print(\"PIN created successfully!\")\n",
        "            self.menu()\n",
        "\n",
        "    def deposit(self):\n",
        "        amount = float(input(\"Please enter the amount to deposit: \"))\n",
        "        self.balance += amount\n",
        "        print(f\"${amount} deposited successfully.\")\n",
        "        self.menu()\n",
        "\n",
        "    def withdraw(self):\n",
        "        amount = float(input(\"Please enter the amount to withdraw: \"))\n",
        "        if amount > self.balance:\n",
        "            print(\"Insufficient balance.\")\n",
        "        else:\n",
        "            self.balance -= amount\n",
        "            print(f\"${amount} withdrawn successfully.\")\n",
        "        self.menu()\n",
        "\n",
        "    def check_balance(self):\n",
        "        print(f\"Your current balance is ${self.balance}\")\n",
        "        self.menu()\n",
        "\n",
        "\n",
        "atm = ATM()\n"
      ],
      "metadata": {
        "colab": {
          "base_uri": "https://localhost:8080/"
        },
        "id": "Sv39GoWO3_cT",
        "outputId": "fee6f6ed-8a1d-41ef-fd57-f5e76f929901"
      },
      "execution_count": null,
      "outputs": [
        {
          "output_type": "stream",
          "name": "stdout",
          "text": [
            "Hello! How would you like to proceed?\n",
            "Enter 1 to create a PIN\n",
            "Enter 2 to deposit\n",
            "Enter 3 to withdraw\n",
            "Enter 4 to check balance\n",
            "Enter 5 to exit\n",
            "Please enter your choice: 1\n",
            "Please enter a 4-digit PIN: 4444\n",
            "PIN created successfully!\n",
            "Hello! How would you like to proceed?\n",
            "Enter 1 to create a PIN\n",
            "Enter 2 to deposit\n",
            "Enter 3 to withdraw\n",
            "Enter 4 to check balance\n",
            "Enter 5 to exit\n",
            "Please enter your choice: 33333\n",
            "Invalid choice. Please try again.\n",
            "Hello! How would you like to proceed?\n",
            "Enter 1 to create a PIN\n",
            "Enter 2 to deposit\n",
            "Enter 3 to withdraw\n",
            "Enter 4 to check balance\n",
            "Enter 5 to exit\n"
          ]
        }
      ]
    },
    {
      "cell_type": "code",
      "source": [
        "def twoSum(nums, target):\n",
        "\n",
        "    complements = {}\n",
        "\n",
        "\n",
        "    for i, num in enumerate(nums):\n",
        "\n",
        "        complement = target - num\n",
        "        if complement in complements:\n",
        "\n",
        "            return [complements[complement], i]\n",
        "\n",
        "\n",
        "        complements[num] = i\n",
        "\n",
        "\n",
        "    return []\n",
        "\n",
        "\n",
        "nums = [2, 7, 11, 15]\n",
        "target = 9\n",
        "result = twoSum(nums, target)\n",
        "print(result)\n"
      ],
      "metadata": {
        "id": "sFDuY2jsQPrX",
        "colab": {
          "base_uri": "https://localhost:8080/"
        },
        "outputId": "0b35152c-d5b6-4bf9-fc59-1623236b8bc0"
      },
      "execution_count": null,
      "outputs": [
        {
          "output_type": "stream",
          "name": "stdout",
          "text": [
            "[0, 1]\n"
          ]
        }
      ]
    },
    {
      "cell_type": "code",
      "source": [
        "def fibo (n):\n",
        "  if n<1:\n",
        "    return 1\n",
        "  else:\n",
        "    return fibo(n-1)+fibo(n-2)\n",
        "    n=int(input(\"enter a number :\"))\n",
        "  if n<0:\n",
        "    print(\"positive number\")\n",
        "  else:\n",
        "    for i in range (n):\n",
        "      print(fibo(i))\n",
        "\n"
      ],
      "metadata": {
        "id": "tCSUAarbYkB2"
      },
      "execution_count": null,
      "outputs": []
    },
    {
      "cell_type": "code",
      "source": [
        "def fibo(n):\n",
        "  if n<1 :\n",
        "   return 1\n",
        "  else :\n",
        "    return fibo (n-1)+fibo (n-2)\n",
        "\n",
        "    n=int(input(\"enter a number here:\"))\n",
        "    if n<0:\n",
        "      print(\"enter a positive number:\")\n",
        "    else:\n",
        "      for i in range(n):\n",
        "        print(fibo(i))\n",
        "\n",
        "\n",
        "\n"
      ],
      "metadata": {
        "id": "_5ZyNLWnQgko"
      },
      "execution_count": null,
      "outputs": []
    },
    {
      "cell_type": "code",
      "source": [
        "def fibo(n):\n",
        "    if n < 1:\n",
        "        return 1\n",
        "    else:\n",
        "        return fibo(n - 1) + fibo(n - 2)\n",
        "\n",
        "n = int(input(\"Enter a number: \"))\n",
        "if n < 0:\n",
        "    print(\"Enter a positive number.\")\n",
        "else:\n",
        "    for i in range(n):\n",
        "        print(fibo(i))\n"
      ],
      "metadata": {
        "id": "zSEVmovpUTQM"
      },
      "execution_count": null,
      "outputs": []
    },
    {
      "cell_type": "code",
      "source": [],
      "metadata": {
        "id": "mwGqm2oKeCcl"
      },
      "execution_count": null,
      "outputs": []
    },
    {
      "cell_type": "code",
      "source": [
        "num=int(input(\"enter a number here:\"))\n",
        "for i in range (2,100):\n",
        "  if num%i==0:\n",
        "    print(\"it is a prime number:\")\n",
        "    break\n",
        "  else:\n",
        "    print(\"it is not a prime number:\")\n"
      ],
      "metadata": {
        "colab": {
          "base_uri": "https://localhost:8080/"
        },
        "id": "lVyIfW0AeZyi",
        "outputId": "2d4f7217-cb1a-4c09-e5b1-d2507d957fe5"
      },
      "execution_count": null,
      "outputs": [
        {
          "output_type": "stream",
          "name": "stdout",
          "text": [
            "enter a number here:55\n",
            "it is not a prime number:\n",
            "it is not a prime number:\n",
            "it is not a prime number:\n",
            "it is a prime number:\n"
          ]
        }
      ]
    },
    {
      "cell_type": "code",
      "source": [
        "def fibo(n):\n",
        "    if n < 1:\n",
        "        return 1\n",
        "    else:\n",
        "        return fibo(n - 1) + fibo(n - 2)\n",
        "\n",
        "n = int(input(\"Enter a number: \"))\n",
        "if n < 0:\n",
        "    print(\"Enter a positive number.\")\n",
        "else:\n",
        "    for i in range(n):\n",
        "        print(fibo(i))\n"
      ],
      "metadata": {
        "colab": {
          "base_uri": "https://localhost:8080/"
        },
        "id": "YLFVJaN6UVgI",
        "outputId": "c15f77b4-e3c3-4d79-b757-00328a7d22fb"
      },
      "execution_count": null,
      "outputs": [
        {
          "output_type": "stream",
          "name": "stdout",
          "text": [
            "1\n",
            "2\n",
            "3\n",
            "5\n",
            "8\n",
            "13\n",
            "21\n",
            "34\n",
            "55\n",
            "89\n",
            "144\n",
            "233\n",
            "377\n",
            "610\n",
            "987\n",
            "1597\n",
            "2584\n",
            "4181\n",
            "6765\n",
            "10946\n",
            "17711\n",
            "28657\n",
            "46368\n",
            "75025\n",
            "121393\n",
            "196418\n",
            "317811\n",
            "514229\n",
            "832040\n",
            "1346269\n",
            "2178309\n",
            "3524578\n",
            "5702887\n",
            "9227465\n",
            "14930352\n",
            "24157817\n",
            "39088169\n",
            "63245986\n",
            "102334155\n",
            "165580141\n",
            "267914296\n",
            "433494437\n",
            "701408733\n",
            "1134903170\n"
          ]
        }
      ]
    },
    {
      "cell_type": "code",
      "source": [
        "num = int(input(\"Enter a number: \"))\n",
        "\n",
        "if num == 1:\n",
        "    print(\"It is not a prime number.\")\n",
        "elif num > 1:\n",
        "    for i in range(2, num):\n",
        "        if num % i == 0:\n",
        "            print(\"It is not a prime number.\")\n",
        "            break\n",
        "    else:\n",
        "        print(\"It is a prime number.\")\n",
        "else:\n",
        "   print(\"Invalid input.\")\n"
      ],
      "metadata": {
        "colab": {
          "base_uri": "https://localhost:8080/"
        },
        "id": "rShSQvgSx2al",
        "outputId": "49984849-9b79-4f8a-db30-9fc17c38e873"
      },
      "execution_count": null,
      "outputs": [
        {
          "output_type": "stream",
          "name": "stdout",
          "text": [
            "Enter a number: 55\n",
            "It is not a prime number.\n"
          ]
        }
      ]
    },
    {
      "cell_type": "code",
      "source": [
        "n=int (input (\"enter a number :\"))\n",
        "if n==1:\n",
        "  print(\"it is not a prime number:\")\n",
        "elif  n>1:\n",
        "  for i in range(2,n):\n",
        "    if n%i==0:\n",
        "      print(\"it is not a prime number:\")\n",
        "      break\n",
        "else:\n",
        "  print(\"it is a prime number:\")\n",
        "\n",
        "\n",
        "\n",
        "\n",
        "\n"
      ],
      "metadata": {
        "colab": {
          "base_uri": "https://localhost:8080/"
        },
        "id": "9sos-osMZpsa",
        "outputId": "3de54525-cc19-48fe-bc7f-f7a46f43950e"
      },
      "execution_count": null,
      "outputs": [
        {
          "output_type": "stream",
          "name": "stdout",
          "text": [
            "enter a number :44\n",
            "it is not a prime number:\n"
          ]
        }
      ]
    },
    {
      "cell_type": "code",
      "source": [
        "num = int(input(\"Enter a number: \"))\n",
        "\n",
        "for i in range(2, num):\n",
        "    if num % i == 0:\n",
        "        print(\"It is not a prime number.\")\n",
        "        break\n",
        "else:\n",
        "    print(\"It is a prime number.\")\n"
      ],
      "metadata": {
        "colab": {
          "base_uri": "https://localhost:8080/"
        },
        "id": "n2yF4Te9zUO4",
        "outputId": "bb5e5db6-c2f6-431c-b25b-13e276b2243c"
      },
      "execution_count": null,
      "outputs": [
        {
          "output_type": "stream",
          "name": "stdout",
          "text": [
            "Enter a number: 2\n",
            "It is a prime number.\n"
          ]
        }
      ]
    },
    {
      "cell_type": "code",
      "source": [],
      "metadata": {
        "id": "1dlfPTEfd63w"
      },
      "execution_count": null,
      "outputs": []
    },
    {
      "cell_type": "code",
      "source": [
        "num=int(input(\"enter a numbar here:\"))\n",
        "result=num*(1/2)\n",
        "print(result)"
      ],
      "metadata": {
        "colab": {
          "base_uri": "https://localhost:8080/"
        },
        "id": "W8n4BuGQ0dTr",
        "outputId": "e20faac7-d7ce-4a8a-dea6-20a5dccde5de"
      },
      "execution_count": null,
      "outputs": [
        {
          "output_type": "stream",
          "name": "stdout",
          "text": [
            "enter a numbar here:44\n",
            "22.0\n"
          ]
        }
      ]
    },
    {
      "cell_type": "code",
      "source": [
        "a =input(\"enter a name :\")\n",
        "rev = a[::-1]\n",
        "if a==rev :\n",
        " print (\"string is a palindrome: \")\n",
        "else:\n",
        "  print(\"string is not a palindrome:\")"
      ],
      "metadata": {
        "colab": {
          "base_uri": "https://localhost:8080/"
        },
        "id": "HWiMNA_l1_sH",
        "outputId": "c2e08983-9b77-404d-a6bf-3226a21168cf"
      },
      "execution_count": null,
      "outputs": [
        {
          "output_type": "stream",
          "name": "stdout",
          "text": [
            "enter a name :black clover \n",
            "string is not a palindrome:\n"
          ]
        }
      ]
    },
    {
      "cell_type": "code",
      "source": [
        ":\n"
      ],
      "metadata": {
        "id": "VnKE4ITIzVeU"
      },
      "execution_count": null,
      "outputs": []
    },
    {
      "cell_type": "code",
      "source": [],
      "metadata": {
        "id": "QYD1H3Bbw0C-"
      },
      "execution_count": null,
      "outputs": []
    },
    {
      "cell_type": "code",
      "source": [
        "n=int(input(\"eneter thr number:\"))\n",
        "for i in range (n)\n",
        "print(\"*\",)"
      ],
      "metadata": {
        "id": "K_fRAy0qw02T"
      },
      "execution_count": null,
      "outputs": []
    },
    {
      "cell_type": "code",
      "source": [
        "import math\n",
        "n=int(input(\"enter the number:\"))\n",
        "result=math.factorial(n)\n",
        "print(result)"
      ],
      "metadata": {
        "colab": {
          "base_uri": "https://localhost:8080/"
        },
        "id": "9-GIpHJ2iY-2",
        "outputId": "97ad7f99-1e14-479d-fc59-661dc1beecd4"
      },
      "execution_count": null,
      "outputs": [
        {
          "output_type": "stream",
          "name": "stdout",
          "text": [
            "enter the number:66\n",
            "544344939077443064003729240247842752644293064388798874532860126869671081148416000000000000000\n"
          ]
        }
      ]
    },
    {
      "cell_type": "code",
      "source": [
        "for x in range (1,100):\n",
        " if x%2 ==0:\n",
        "  print(x)"
      ],
      "metadata": {
        "colab": {
          "base_uri": "https://localhost:8080/"
        },
        "id": "50woiSlIo_yE",
        "outputId": "11e7b5bf-4a72-4883-fe6d-76782aca7193"
      },
      "execution_count": null,
      "outputs": [
        {
          "output_type": "stream",
          "name": "stdout",
          "text": [
            "2\n",
            "4\n",
            "6\n",
            "8\n",
            "10\n",
            "12\n",
            "14\n",
            "16\n",
            "18\n",
            "20\n",
            "22\n",
            "24\n",
            "26\n",
            "28\n",
            "30\n",
            "32\n",
            "34\n",
            "36\n",
            "38\n",
            "40\n",
            "42\n",
            "44\n",
            "46\n",
            "48\n",
            "50\n",
            "52\n",
            "54\n",
            "56\n",
            "58\n",
            "60\n",
            "62\n",
            "64\n",
            "66\n",
            "68\n",
            "70\n",
            "72\n",
            "74\n",
            "76\n",
            "78\n",
            "80\n",
            "82\n",
            "84\n",
            "86\n",
            "88\n",
            "90\n",
            "92\n",
            "94\n",
            "96\n",
            "98\n"
          ]
        }
      ]
    },
    {
      "cell_type": "code",
      "source": [
        " f"
      ],
      "metadata": {
        "id": "OS_UAp40DA2i"
      },
      "execution_count": null,
      "outputs": []
    },
    {
      "cell_type": "code",
      "source": [
        "n=int(input(\"enter the number :\"))\n",
        "for i in range (1,n+1):\n",
        "  for j in range (1,i+1):\n",
        "    print(\"*\", end=\"\")\n",
        "print()"
      ],
      "metadata": {
        "colab": {
          "base_uri": "https://localhost:8080/"
        },
        "id": "o_YYIvEYc8IE",
        "outputId": "3df289c4-22c8-4ccb-c58e-3b2626d65da5"
      },
      "execution_count": null,
      "outputs": [
        {
          "output_type": "stream",
          "name": "stdout",
          "text": [
            "enter the number :2\n",
            "***\n"
          ]
        }
      ]
    },
    {
      "cell_type": "code",
      "source": [],
      "metadata": {
        "id": "KaLpniMzd3vZ"
      },
      "execution_count": null,
      "outputs": []
    },
    {
      "cell_type": "code",
      "source": [],
      "metadata": {
        "id": "gfkLg2VRicRV"
      },
      "execution_count": null,
      "outputs": []
    },
    {
      "cell_type": "code",
      "source": [
        "num=int(input (\"enter a number \"))\n",
        "if num%2==0:\n",
        "  print(\"number is even\")\n",
        "else:\n",
        "  print(\"number is odd\")"
      ],
      "metadata": {
        "colab": {
          "base_uri": "https://localhost:8080/"
        },
        "id": "Av38wAYOsAit",
        "outputId": "e8b0fe89-45c6-4d65-a17b-9325875e34f3"
      },
      "execution_count": null,
      "outputs": [
        {
          "output_type": "stream",
          "name": "stdout",
          "text": [
            "enter a number 2\n",
            "number is even\n"
          ]
        }
      ]
    },
    {
      "cell_type": "code",
      "source": [
        "for i in range (0,100):\n",
        "  if i%2==0:\n",
        "     print(i)"
      ],
      "metadata": {
        "colab": {
          "base_uri": "https://localhost:8080/"
        },
        "id": "_kwJTqeV-PhU",
        "outputId": "18559cf8-3269-43c3-af3f-6ad2e42c5e44"
      },
      "execution_count": null,
      "outputs": [
        {
          "output_type": "stream",
          "name": "stdout",
          "text": [
            "0\n",
            "2\n",
            "4\n",
            "6\n",
            "8\n",
            "10\n",
            "12\n",
            "14\n",
            "16\n",
            "18\n",
            "20\n",
            "22\n",
            "24\n",
            "26\n",
            "28\n",
            "30\n",
            "32\n",
            "34\n",
            "36\n",
            "38\n",
            "40\n",
            "42\n",
            "44\n",
            "46\n",
            "48\n",
            "50\n",
            "52\n",
            "54\n",
            "56\n",
            "58\n",
            "60\n",
            "62\n",
            "64\n",
            "66\n",
            "68\n",
            "70\n",
            "72\n",
            "74\n",
            "76\n",
            "78\n",
            "80\n",
            "82\n",
            "84\n",
            "86\n",
            "88\n",
            "90\n",
            "92\n",
            "94\n",
            "96\n",
            "98\n"
          ]
        }
      ]
    },
    {
      "cell_type": "code",
      "source": [
        "import random\n",
        "\n",
        "l=[10,20,30,40]\n",
        "random.shuffle(l)\n",
        "print(l)"
      ],
      "metadata": {
        "colab": {
          "base_uri": "https://localhost:8080/"
        },
        "id": "xwxN3l6E-wUB",
        "outputId": "b648b86e-2a08-454b-adae-afd5d9bfb3a9"
      },
      "execution_count": null,
      "outputs": [
        {
          "output_type": "stream",
          "name": "stdout",
          "text": [
            "[30, 20, 10, 40]\n"
          ]
        }
      ]
    },
    {
      "cell_type": "code",
      "source": [
        "i=int(input(\"enter a number\"))\n",
        "orig=i\n",
        "sum=0\n",
        "while(i>0):\n",
        " sum=sum+(i%10)+(i%10)+(i%10)\n",
        " i=i//10\n",
        "if orig==sum:\n",
        "  print(\"number is armstrong\")\n",
        "else:\n",
        "  print(\"number is not armstrong\")\n"
      ],
      "metadata": {
        "colab": {
          "base_uri": "https://localhost:8080/"
        },
        "id": "_T-S1w0P_9U_",
        "outputId": "8ed2ac2d-18ea-4d7f-a23a-5c3a0a7cf98d"
      },
      "execution_count": null,
      "outputs": [
        {
          "output_type": "stream",
          "name": "stdout",
          "text": [
            "enter a number44\n",
            "number is not armstrong\n"
          ]
        }
      ]
    },
    {
      "cell_type": "code",
      "source": [
        "import math\n",
        "n=int(input(\"enter a number:\"))\n",
        "result=math.factorial(n)\n",
        "print(result)"
      ],
      "metadata": {
        "colab": {
          "base_uri": "https://localhost:8080/"
        },
        "id": "S3Dfa56MGbRY",
        "outputId": "dea0d6c8-2eb8-40cc-8f7d-8a800a2c3a29"
      },
      "execution_count": null,
      "outputs": [
        {
          "output_type": "stream",
          "name": "stdout",
          "text": [
            "enter a number:44\n",
            "2658271574788448768043625811014615890319638528000000000\n"
          ]
        }
      ]
    },
    {
      "cell_type": "code",
      "source": [
        "def check_divisibility(number, divisor):\n",
        "    if number % divisor == 0:\n",
        "        return True\n",
        "    else:\n",
        "        return False\n"
      ],
      "metadata": {
        "id": "eAUSydWODfbp"
      },
      "execution_count": null,
      "outputs": []
    },
    {
      "cell_type": "code",
      "source": [
        "n=int(input(\"enter the number :\"))\n",
        "for i in range(0,num+1):\n",
        "  if num %i==0:\n",
        "  print(i)"
      ],
      "metadata": {
        "colab": {
          "base_uri": "https://localhost:8080/",
          "height": 130
        },
        "id": "2fiBr18dGO1r",
        "outputId": "4f2f2c90-672a-4c9a-f1b7-8ef0e7ce0906"
      },
      "execution_count": null,
      "outputs": [
        {
          "output_type": "error",
          "ename": "IndentationError",
          "evalue": "ignored",
          "traceback": [
            "\u001b[0;36m  File \u001b[0;32m\"<ipython-input-11-682318d64613>\"\u001b[0;36m, line \u001b[0;32m4\u001b[0m\n\u001b[0;31m    print(i)\u001b[0m\n\u001b[0m    ^\u001b[0m\n\u001b[0;31mIndentationError\u001b[0m\u001b[0;31m:\u001b[0m expected an indented block after 'if' statement on line 3\n"
          ]
        }
      ]
    },
    {
      "cell_type": "code",
      "source": [
        "def check_divisibility(number, divisor):\n",
        "    if number % divisor == 0:\n",
        "        return True\n",
        "    else:\n",
        "        return False\n",
        "\n",
        "# Example usage\n",
        "number = int(input(\"Enter the number: \"))\n",
        "divisor = int(input(\"Enter the divisor: \"))\n",
        "\n",
        "if check_divisibility(number, divisor):\n",
        "    print(f\"{number} is divisible by {divisor}.\")\n",
        "else:\n",
        "    print(f\"{number} is not divisible by {divisor}.\")\n",
        "\n"
      ],
      "metadata": {
        "colab": {
          "base_uri": "https://localhost:8080/"
        },
        "id": "Mrlpkz5aDrq7",
        "outputId": "1e2cd0e0-8359-4754-9aaf-95c6b99e1d85"
      },
      "execution_count": null,
      "outputs": [
        {
          "output_type": "stream",
          "name": "stdout",
          "text": [
            "Enter the number: 33\n",
            "Enter the divisor: 55\n",
            "33 is not divisible by 55.\n"
          ]
        }
      ]
    },
    {
      "cell_type": "code",
      "source": [
        "for i in range (1,100):\n",
        "  if i %13==0:\n",
        "    print(i);"
      ],
      "metadata": {
        "colab": {
          "base_uri": "https://localhost:8080/"
        },
        "id": "Z38E7gyuEbVC",
        "outputId": "54efc55b-781b-4bfb-f6c9-2345420dc9dc"
      },
      "execution_count": null,
      "outputs": [
        {
          "output_type": "stream",
          "name": "stdout",
          "text": [
            "13\n",
            "26\n",
            "39\n",
            "52\n",
            "65\n",
            "78\n",
            "91\n"
          ]
        }
      ]
    }
  ]
}